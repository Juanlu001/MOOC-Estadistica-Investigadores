{
 "cells": [
  {
   "cell_type": "markdown",
   "metadata": {},
   "source": [
    "## Parte 0: Preparar los datos\n",
    "\n",
    "Descargamos los datos de http://www.amstat.org/publications/jse/v2n1/datasets.mcintyre.html."
   ]
  },
  {
   "cell_type": "code",
   "execution_count": 1,
   "metadata": {
    "collapsed": false
   },
   "outputs": [
    {
     "name": "stdout",
     "output_type": "stream",
     "text": [
      "25 cigarettes.dat\r\n"
     ]
    }
   ],
   "source": [
    "!wc -l cigarettes.dat"
   ]
  },
  {
   "cell_type": "code",
   "execution_count": 2,
   "metadata": {
    "collapsed": false
   },
   "outputs": [
    {
     "name": "stdout",
     "output_type": "stream",
     "text": [
      "Alpine \t\t14.1  .86  .9853  13.6\r\n",
      "Benson&Hedges\t16.0 1.06 1.0938  16.6\r\n",
      "BullDurham\t29.8 2.03 1.1650  23.5\r\n",
      "CamelLights\t 8.0  .67  .9280  10.2\r\n",
      "Carlton\t\t 4.1  .40  .9462   5.4\r\n",
      "Chesterfield\t15.0 1.04  .8885  15.0\r\n",
      "GoldenLights\t 8.8  .76 1.0267   9.0\r\n",
      "Kent\t\t12.4  .95  .9225  12.3\r\n",
      "Kool\t\t16.6 1.12  .9372  16.3\r\n",
      "L&M\t\t14.9 1.02  .8858  15.4\r\n",
      "LarkLights\t13.7 1.01  .9643  13.0\r\n",
      "Marlboro\t15.1  .90  .9316  14.4\r\n",
      "Merit\t\t 7.8  .57  .9705  10.0\r\n",
      "MultiFilter\t11.4  .78 1.1240  10.2\r\n",
      "NewportLights\t 9.0  .74  .8517   9.5\r\n",
      "Now\t\t 1.0  .13  .7851   1.5\r\n",
      "OldGold\t\t17.0 1.26  .9186  18.5\r\n",
      "PallMallLight\t12.8 1.08 1.0395  12.6\r\n",
      "Raleigh\t\t15.8  .96  .9573  17.5\r\n",
      "SalemUltra\t 4.5  .42  .9106   4.9\r\n",
      "Tareyton\t14.5 1.01 1.0070  15.9\r\n",
      "True\t\t 7.3  .61  .9806   8.5\r\n",
      "ViceroyRichLight 8.6  .69  .9693  10.6\r\n",
      "VirginiaSlims\t15.2 1.02  .9496  13.9\r\n",
      "WinstonLights\t12.0 .82  1.1184  14.9\r\n"
     ]
    }
   ],
   "source": [
    "cat cigarettes.dat"
   ]
  },
  {
   "cell_type": "markdown",
   "metadata": {},
   "source": [
    "Vamos a cargarlos en Python con pandas. pandas es una biblioteca de Python para trabajar con tablas de datos (llamados `DataFrames`) de forma cómoda. En Pybonacci escribimos un [tutorial de pandas](http://pybonacci.org/2014/05/30/pandas-i/) desde lo más básico a usos un poco más intermedios."
   ]
  },
  {
   "cell_type": "code",
   "execution_count": 3,
   "metadata": {
    "collapsed": false
   },
   "outputs": [],
   "source": [
    "import pandas as pd"
   ]
  },
  {
   "cell_type": "code",
   "execution_count": 4,
   "metadata": {
    "collapsed": false
   },
   "outputs": [
    {
     "data": {
      "text/html": [
       "<div>\n",
       "<table border=\"1\" class=\"dataframe\">\n",
       "  <thead>\n",
       "    <tr style=\"text-align: right;\">\n",
       "      <th></th>\n",
       "      <th>Marca</th>\n",
       "      <th>Alquitrán</th>\n",
       "      <th>Nicotina</th>\n",
       "      <th>Peso</th>\n",
       "      <th>Monóxido</th>\n",
       "    </tr>\n",
       "  </thead>\n",
       "  <tbody>\n",
       "    <tr>\n",
       "      <th>0</th>\n",
       "      <td>Alpine</td>\n",
       "      <td>14.1</td>\n",
       "      <td>0.86</td>\n",
       "      <td>0.9853</td>\n",
       "      <td>13.6</td>\n",
       "    </tr>\n",
       "    <tr>\n",
       "      <th>1</th>\n",
       "      <td>Benson&amp;Hedges</td>\n",
       "      <td>16.0</td>\n",
       "      <td>1.06</td>\n",
       "      <td>1.0938</td>\n",
       "      <td>16.6</td>\n",
       "    </tr>\n",
       "    <tr>\n",
       "      <th>2</th>\n",
       "      <td>BullDurham</td>\n",
       "      <td>29.8</td>\n",
       "      <td>2.03</td>\n",
       "      <td>1.1650</td>\n",
       "      <td>23.5</td>\n",
       "    </tr>\n",
       "    <tr>\n",
       "      <th>3</th>\n",
       "      <td>CamelLights</td>\n",
       "      <td>8.0</td>\n",
       "      <td>0.67</td>\n",
       "      <td>0.9280</td>\n",
       "      <td>10.2</td>\n",
       "    </tr>\n",
       "    <tr>\n",
       "      <th>4</th>\n",
       "      <td>Carlton</td>\n",
       "      <td>4.1</td>\n",
       "      <td>0.40</td>\n",
       "      <td>0.9462</td>\n",
       "      <td>5.4</td>\n",
       "    </tr>\n",
       "  </tbody>\n",
       "</table>\n",
       "</div>"
      ],
      "text/plain": [
       "           Marca  Alquitrán  Nicotina    Peso  Monóxido\n",
       "0         Alpine       14.1      0.86  0.9853      13.6\n",
       "1  Benson&Hedges       16.0      1.06  1.0938      16.6\n",
       "2     BullDurham       29.8      2.03  1.1650      23.5\n",
       "3    CamelLights        8.0      0.67  0.9280      10.2\n",
       "4        Carlton        4.1      0.40  0.9462       5.4"
      ]
     },
     "execution_count": 4,
     "metadata": {},
     "output_type": "execute_result"
    }
   ],
   "source": [
    "df = pd.read_csv(\"cigarettes.dat\", delim_whitespace=True, header=None,\n",
    "                 names=[\"Marca\", \"Alquitrán\", \"Nicotina\", \"Peso\", \"Monóxido\"])\n",
    "df.head()"
   ]
  },
  {
   "cell_type": "markdown",
   "metadata": {},
   "source": [
    "Además, voy a añadir el tipo de cigarro *y a corregir un par de valores* para que la tabla quede como la presentada en el curso."
   ]
  },
  {
   "cell_type": "code",
   "execution_count": 5,
   "metadata": {
    "collapsed": true
   },
   "outputs": [],
   "source": [
    "df[\"Clases\"] = ['Rubio', 'Negro', 'Negro', 'Rubio', 'Rubio',\n",
    "                'Negro', 'Rubio', 'Rubio', 'Negro', 'Rubio',\n",
    "                'Rubio', 'Rubio', 'Rubio', 'Rubio', 'Rubio',\n",
    "                'Rubio', 'Negro', 'Rubio', 'Negro', 'Rubio',\n",
    "                'Negro', 'Rubio', 'Negro', 'Negro', 'Rubio']\n",
    "\n",
    "df.loc[0, \"Alquitrán\"] = 4.1\n",
    "df.loc[6, \"Nicotina\"] = .75"
   ]
  },
  {
   "cell_type": "code",
   "execution_count": 6,
   "metadata": {
    "collapsed": false
   },
   "outputs": [
    {
     "data": {
      "text/html": [
       "<div>\n",
       "<table border=\"1\" class=\"dataframe\">\n",
       "  <thead>\n",
       "    <tr style=\"text-align: right;\">\n",
       "      <th></th>\n",
       "      <th>Clases</th>\n",
       "      <th>Alquitrán</th>\n",
       "      <th>Nicotina</th>\n",
       "      <th>Peso</th>\n",
       "      <th>Monóxido</th>\n",
       "    </tr>\n",
       "  </thead>\n",
       "  <tbody>\n",
       "    <tr>\n",
       "      <th>0</th>\n",
       "      <td>Rubio</td>\n",
       "      <td>4.1</td>\n",
       "      <td>0.86</td>\n",
       "      <td>0.9853</td>\n",
       "      <td>13.6</td>\n",
       "    </tr>\n",
       "    <tr>\n",
       "      <th>1</th>\n",
       "      <td>Negro</td>\n",
       "      <td>16.0</td>\n",
       "      <td>1.06</td>\n",
       "      <td>1.0938</td>\n",
       "      <td>16.6</td>\n",
       "    </tr>\n",
       "    <tr>\n",
       "      <th>2</th>\n",
       "      <td>Negro</td>\n",
       "      <td>29.8</td>\n",
       "      <td>2.03</td>\n",
       "      <td>1.1650</td>\n",
       "      <td>23.5</td>\n",
       "    </tr>\n",
       "    <tr>\n",
       "      <th>3</th>\n",
       "      <td>Rubio</td>\n",
       "      <td>8.0</td>\n",
       "      <td>0.67</td>\n",
       "      <td>0.9280</td>\n",
       "      <td>10.2</td>\n",
       "    </tr>\n",
       "    <tr>\n",
       "      <th>4</th>\n",
       "      <td>Rubio</td>\n",
       "      <td>4.1</td>\n",
       "      <td>0.40</td>\n",
       "      <td>0.9462</td>\n",
       "      <td>5.4</td>\n",
       "    </tr>\n",
       "    <tr>\n",
       "      <th>5</th>\n",
       "      <td>Negro</td>\n",
       "      <td>15.0</td>\n",
       "      <td>1.04</td>\n",
       "      <td>0.8885</td>\n",
       "      <td>15.0</td>\n",
       "    </tr>\n",
       "    <tr>\n",
       "      <th>6</th>\n",
       "      <td>Rubio</td>\n",
       "      <td>8.8</td>\n",
       "      <td>0.75</td>\n",
       "      <td>1.0267</td>\n",
       "      <td>9.0</td>\n",
       "    </tr>\n",
       "    <tr>\n",
       "      <th>7</th>\n",
       "      <td>Rubio</td>\n",
       "      <td>12.4</td>\n",
       "      <td>0.95</td>\n",
       "      <td>0.9225</td>\n",
       "      <td>12.3</td>\n",
       "    </tr>\n",
       "    <tr>\n",
       "      <th>8</th>\n",
       "      <td>Negro</td>\n",
       "      <td>16.6</td>\n",
       "      <td>1.12</td>\n",
       "      <td>0.9372</td>\n",
       "      <td>16.3</td>\n",
       "    </tr>\n",
       "    <tr>\n",
       "      <th>9</th>\n",
       "      <td>Rubio</td>\n",
       "      <td>14.9</td>\n",
       "      <td>1.02</td>\n",
       "      <td>0.8858</td>\n",
       "      <td>15.4</td>\n",
       "    </tr>\n",
       "    <tr>\n",
       "      <th>10</th>\n",
       "      <td>Rubio</td>\n",
       "      <td>13.7</td>\n",
       "      <td>1.01</td>\n",
       "      <td>0.9643</td>\n",
       "      <td>13.0</td>\n",
       "    </tr>\n",
       "    <tr>\n",
       "      <th>11</th>\n",
       "      <td>Rubio</td>\n",
       "      <td>15.1</td>\n",
       "      <td>0.90</td>\n",
       "      <td>0.9316</td>\n",
       "      <td>14.4</td>\n",
       "    </tr>\n",
       "    <tr>\n",
       "      <th>12</th>\n",
       "      <td>Rubio</td>\n",
       "      <td>7.8</td>\n",
       "      <td>0.57</td>\n",
       "      <td>0.9705</td>\n",
       "      <td>10.0</td>\n",
       "    </tr>\n",
       "    <tr>\n",
       "      <th>13</th>\n",
       "      <td>Rubio</td>\n",
       "      <td>11.4</td>\n",
       "      <td>0.78</td>\n",
       "      <td>1.1240</td>\n",
       "      <td>10.2</td>\n",
       "    </tr>\n",
       "    <tr>\n",
       "      <th>14</th>\n",
       "      <td>Rubio</td>\n",
       "      <td>9.0</td>\n",
       "      <td>0.74</td>\n",
       "      <td>0.8517</td>\n",
       "      <td>9.5</td>\n",
       "    </tr>\n",
       "    <tr>\n",
       "      <th>15</th>\n",
       "      <td>Rubio</td>\n",
       "      <td>1.0</td>\n",
       "      <td>0.13</td>\n",
       "      <td>0.7851</td>\n",
       "      <td>1.5</td>\n",
       "    </tr>\n",
       "    <tr>\n",
       "      <th>16</th>\n",
       "      <td>Negro</td>\n",
       "      <td>17.0</td>\n",
       "      <td>1.26</td>\n",
       "      <td>0.9186</td>\n",
       "      <td>18.5</td>\n",
       "    </tr>\n",
       "    <tr>\n",
       "      <th>17</th>\n",
       "      <td>Rubio</td>\n",
       "      <td>12.8</td>\n",
       "      <td>1.08</td>\n",
       "      <td>1.0395</td>\n",
       "      <td>12.6</td>\n",
       "    </tr>\n",
       "    <tr>\n",
       "      <th>18</th>\n",
       "      <td>Negro</td>\n",
       "      <td>15.8</td>\n",
       "      <td>0.96</td>\n",
       "      <td>0.9573</td>\n",
       "      <td>17.5</td>\n",
       "    </tr>\n",
       "    <tr>\n",
       "      <th>19</th>\n",
       "      <td>Rubio</td>\n",
       "      <td>4.5</td>\n",
       "      <td>0.42</td>\n",
       "      <td>0.9106</td>\n",
       "      <td>4.9</td>\n",
       "    </tr>\n",
       "    <tr>\n",
       "      <th>20</th>\n",
       "      <td>Negro</td>\n",
       "      <td>14.5</td>\n",
       "      <td>1.01</td>\n",
       "      <td>1.0070</td>\n",
       "      <td>15.9</td>\n",
       "    </tr>\n",
       "    <tr>\n",
       "      <th>21</th>\n",
       "      <td>Rubio</td>\n",
       "      <td>7.3</td>\n",
       "      <td>0.61</td>\n",
       "      <td>0.9806</td>\n",
       "      <td>8.5</td>\n",
       "    </tr>\n",
       "    <tr>\n",
       "      <th>22</th>\n",
       "      <td>Negro</td>\n",
       "      <td>8.6</td>\n",
       "      <td>0.69</td>\n",
       "      <td>0.9693</td>\n",
       "      <td>10.6</td>\n",
       "    </tr>\n",
       "    <tr>\n",
       "      <th>23</th>\n",
       "      <td>Negro</td>\n",
       "      <td>15.2</td>\n",
       "      <td>1.02</td>\n",
       "      <td>0.9496</td>\n",
       "      <td>13.9</td>\n",
       "    </tr>\n",
       "    <tr>\n",
       "      <th>24</th>\n",
       "      <td>Rubio</td>\n",
       "      <td>12.0</td>\n",
       "      <td>0.82</td>\n",
       "      <td>1.1184</td>\n",
       "      <td>14.9</td>\n",
       "    </tr>\n",
       "  </tbody>\n",
       "</table>\n",
       "</div>"
      ],
      "text/plain": [
       "   Clases  Alquitrán  Nicotina    Peso  Monóxido\n",
       "0   Rubio        4.1      0.86  0.9853      13.6\n",
       "1   Negro       16.0      1.06  1.0938      16.6\n",
       "2   Negro       29.8      2.03  1.1650      23.5\n",
       "3   Rubio        8.0      0.67  0.9280      10.2\n",
       "4   Rubio        4.1      0.40  0.9462       5.4\n",
       "5   Negro       15.0      1.04  0.8885      15.0\n",
       "6   Rubio        8.8      0.75  1.0267       9.0\n",
       "7   Rubio       12.4      0.95  0.9225      12.3\n",
       "8   Negro       16.6      1.12  0.9372      16.3\n",
       "9   Rubio       14.9      1.02  0.8858      15.4\n",
       "10  Rubio       13.7      1.01  0.9643      13.0\n",
       "11  Rubio       15.1      0.90  0.9316      14.4\n",
       "12  Rubio        7.8      0.57  0.9705      10.0\n",
       "13  Rubio       11.4      0.78  1.1240      10.2\n",
       "14  Rubio        9.0      0.74  0.8517       9.5\n",
       "15  Rubio        1.0      0.13  0.7851       1.5\n",
       "16  Negro       17.0      1.26  0.9186      18.5\n",
       "17  Rubio       12.8      1.08  1.0395      12.6\n",
       "18  Negro       15.8      0.96  0.9573      17.5\n",
       "19  Rubio        4.5      0.42  0.9106       4.9\n",
       "20  Negro       14.5      1.01  1.0070      15.9\n",
       "21  Rubio        7.3      0.61  0.9806       8.5\n",
       "22  Negro        8.6      0.69  0.9693      10.6\n",
       "23  Negro       15.2      1.02  0.9496      13.9\n",
       "24  Rubio       12.0      0.82  1.1184      14.9"
      ]
     },
     "execution_count": 6,
     "metadata": {},
     "output_type": "execute_result"
    }
   ],
   "source": [
    "df[[\"Clases\", \"Alquitrán\", \"Nicotina\", \"Peso\", \"Monóxido\"]]"
   ]
  },
  {
   "cell_type": "markdown",
   "metadata": {},
   "source": [
    "## Parte 1: Informe estadístico"
   ]
  },
  {
   "cell_type": "markdown",
   "metadata": {},
   "source": [
    "Los `DataFrame` de pandas tienen un método `describe()` que imprime algunas medidas estadísticas interesantes de nuestra tabla:"
   ]
  },
  {
   "cell_type": "code",
   "execution_count": 7,
   "metadata": {
    "collapsed": false
   },
   "outputs": [
    {
     "data": {
      "text/html": [
       "<div>\n",
       "<table border=\"1\" class=\"dataframe\">\n",
       "  <thead>\n",
       "    <tr style=\"text-align: right;\">\n",
       "      <th></th>\n",
       "      <th>count</th>\n",
       "      <th>mean</th>\n",
       "      <th>std</th>\n",
       "      <th>min</th>\n",
       "      <th>25%</th>\n",
       "      <th>50%</th>\n",
       "      <th>75%</th>\n",
       "      <th>max</th>\n",
       "    </tr>\n",
       "  </thead>\n",
       "  <tbody>\n",
       "    <tr>\n",
       "      <th>Alquitrán</th>\n",
       "      <td>25</td>\n",
       "      <td>11.816000</td>\n",
       "      <td>5.876342</td>\n",
       "      <td>1.0000</td>\n",
       "      <td>8.0000</td>\n",
       "      <td>12.4000</td>\n",
       "      <td>15.100</td>\n",
       "      <td>29.800</td>\n",
       "    </tr>\n",
       "    <tr>\n",
       "      <th>Nicotina</th>\n",
       "      <td>25</td>\n",
       "      <td>0.876000</td>\n",
       "      <td>0.354201</td>\n",
       "      <td>0.1300</td>\n",
       "      <td>0.6900</td>\n",
       "      <td>0.9000</td>\n",
       "      <td>1.020</td>\n",
       "      <td>2.030</td>\n",
       "    </tr>\n",
       "    <tr>\n",
       "      <th>Peso</th>\n",
       "      <td>25</td>\n",
       "      <td>0.970284</td>\n",
       "      <td>0.087721</td>\n",
       "      <td>0.7851</td>\n",
       "      <td>0.9225</td>\n",
       "      <td>0.9573</td>\n",
       "      <td>1.007</td>\n",
       "      <td>1.165</td>\n",
       "    </tr>\n",
       "    <tr>\n",
       "      <th>Monóxido</th>\n",
       "      <td>25</td>\n",
       "      <td>12.528000</td>\n",
       "      <td>4.739684</td>\n",
       "      <td>1.5000</td>\n",
       "      <td>10.0000</td>\n",
       "      <td>13.0000</td>\n",
       "      <td>15.400</td>\n",
       "      <td>23.500</td>\n",
       "    </tr>\n",
       "  </tbody>\n",
       "</table>\n",
       "</div>"
      ],
      "text/plain": [
       "           count       mean       std     min      25%      50%     75%  \\\n",
       "Alquitrán     25  11.816000  5.876342  1.0000   8.0000  12.4000  15.100   \n",
       "Nicotina      25   0.876000  0.354201  0.1300   0.6900   0.9000   1.020   \n",
       "Peso          25   0.970284  0.087721  0.7851   0.9225   0.9573   1.007   \n",
       "Monóxido      25  12.528000  4.739684  1.5000  10.0000  13.0000  15.400   \n",
       "\n",
       "              max  \n",
       "Alquitrán  29.800  \n",
       "Nicotina    2.030  \n",
       "Peso        1.165  \n",
       "Monóxido   23.500  "
      ]
     },
     "execution_count": 7,
     "metadata": {},
     "output_type": "execute_result"
    }
   ],
   "source": [
    "df.describe().transpose()"
   ]
  },
  {
   "cell_type": "markdown",
   "metadata": {},
   "source": [
    "Podemos añadir también el **error estándar de la media** y la **varianza**:"
   ]
  },
  {
   "cell_type": "code",
   "execution_count": 8,
   "metadata": {
    "collapsed": false
   },
   "outputs": [
    {
     "data": {
      "text/plain": [
       "Alquitrán    1.175268\n",
       "Nicotina     0.070840\n",
       "Peso         0.017544\n",
       "Monóxido     0.947937\n",
       "dtype: float64"
      ]
     },
     "execution_count": 8,
     "metadata": {},
     "output_type": "execute_result"
    }
   ],
   "source": [
    "df.sem()"
   ]
  },
  {
   "cell_type": "code",
   "execution_count": 9,
   "metadata": {
    "collapsed": false
   },
   "outputs": [
    {
     "data": {
      "text/plain": [
       "Alquitrán    34.531400\n",
       "Nicotina      0.125458\n",
       "Peso          0.007695\n",
       "Monóxido     22.464600\n",
       "dtype: float64"
      ]
     },
     "execution_count": 9,
     "metadata": {},
     "output_type": "execute_result"
    }
   ],
   "source": [
    "df.var()"
   ]
  },
  {
   "cell_type": "markdown",
   "metadata": {},
   "source": [
    "## Parte 2: Analizar los percentiles"
   ]
  },
  {
   "cell_type": "markdown",
   "metadata": {},
   "source": [
    "<div class=\"alert alert-warning\"><strong>Nota:</strong> Aquí se aprecia que los percentiles no coinciden prácticamente con los dados en la tabla.</div>"
   ]
  },
  {
   "cell_type": "code",
   "execution_count": 10,
   "metadata": {
    "collapsed": false
   },
   "outputs": [
    {
     "data": {
      "text/html": [
       "<div>\n",
       "<table border=\"1\" class=\"dataframe\">\n",
       "  <thead>\n",
       "    <tr style=\"text-align: right;\">\n",
       "      <th></th>\n",
       "      <th>5%</th>\n",
       "      <th>10%</th>\n",
       "      <th>25%</th>\n",
       "      <th>50%</th>\n",
       "      <th>75%</th>\n",
       "      <th>90%</th>\n",
       "      <th>95%</th>\n",
       "    </tr>\n",
       "  </thead>\n",
       "  <tbody>\n",
       "    <tr>\n",
       "      <th>Monóxido</th>\n",
       "      <td>5.00000</td>\n",
       "      <td>6.64000</td>\n",
       "      <td>10.0000</td>\n",
       "      <td>13.0000</td>\n",
       "      <td>15.400</td>\n",
       "      <td>17.14000</td>\n",
       "      <td>18.30000</td>\n",
       "    </tr>\n",
       "    <tr>\n",
       "      <th>Alquitrán</th>\n",
       "      <td>4.10000</td>\n",
       "      <td>4.26000</td>\n",
       "      <td>8.0000</td>\n",
       "      <td>12.4000</td>\n",
       "      <td>15.100</td>\n",
       "      <td>16.36000</td>\n",
       "      <td>16.92000</td>\n",
       "    </tr>\n",
       "    <tr>\n",
       "      <th>Nicotina</th>\n",
       "      <td>0.40400</td>\n",
       "      <td>0.48000</td>\n",
       "      <td>0.6900</td>\n",
       "      <td>0.9000</td>\n",
       "      <td>1.020</td>\n",
       "      <td>1.10400</td>\n",
       "      <td>1.23200</td>\n",
       "    </tr>\n",
       "    <tr>\n",
       "      <th>Peso</th>\n",
       "      <td>0.85852</td>\n",
       "      <td>0.88688</td>\n",
       "      <td>0.9225</td>\n",
       "      <td>0.9573</td>\n",
       "      <td>1.007</td>\n",
       "      <td>1.10856</td>\n",
       "      <td>1.12288</td>\n",
       "    </tr>\n",
       "  </tbody>\n",
       "</table>\n",
       "</div>"
      ],
      "text/plain": [
       "                5%      10%      25%      50%     75%       90%       95%\n",
       "Monóxido   5.00000  6.64000  10.0000  13.0000  15.400  17.14000  18.30000\n",
       "Alquitrán  4.10000  4.26000   8.0000  12.4000  15.100  16.36000  16.92000\n",
       "Nicotina   0.40400  0.48000   0.6900   0.9000   1.020   1.10400   1.23200\n",
       "Peso       0.85852  0.88688   0.9225   0.9573   1.007   1.10856   1.12288"
      ]
     },
     "execution_count": 10,
     "metadata": {},
     "output_type": "execute_result"
    }
   ],
   "source": [
    "(df.describe(percentiles=[.05, .10, .25, .50, .75, .90, .95])\n",
    " [[\"Monóxido\", \"Alquitrán\", \"Nicotina\", \"Peso\"]]\n",
    " .transpose()\n",
    " [[\"5%\", \"10%\", \"25%\", \"50%\", \"75%\", \"90%\", \"95%\"]])"
   ]
  },
  {
   "cell_type": "markdown",
   "metadata": {},
   "source": [
    "## Parte 3: Box plots"
   ]
  },
  {
   "cell_type": "code",
   "execution_count": 11,
   "metadata": {
    "collapsed": true
   },
   "outputs": [],
   "source": [
    "%matplotlib inline\n",
    "import matplotlib.pyplot as plt"
   ]
  },
  {
   "cell_type": "code",
   "execution_count": 12,
   "metadata": {
    "collapsed": false
   },
   "outputs": [
    {
     "data": {
      "image/png": "[encoded data removed]",
      "text/plain": [
       "<matplotlib.figure.Figure at 0x7f8d7005d390>"
      ]
     },
     "metadata": {},
     "output_type": "display_data"
    }
   ],
   "source": [
    "with plt.style.context(\"fivethirtyeight\"):\n",
    "    plt.figure(figsize=(8, 8))\n",
    "\n",
    "    plt.subplot(2, 2, 1)\n",
    "    df.boxplot(\"Monóxido\", return_type='axes')\n",
    "\n",
    "    plt.subplot(2, 2, 2)\n",
    "    df.boxplot(\"Alquitrán\", return_type='axes')\n",
    "\n",
    "    plt.subplot(2, 2, 3)\n",
    "    df.boxplot(\"Nicotina\", return_type='axes')\n",
    "\n",
    "    plt.subplot(2, 2, 4)\n",
    "    df.boxplot(\"Peso\", return_type='axes')"
   ]
  }
 ],
 "metadata": {
  "kernelspec": {
   "display_name": "Python 3",
   "language": "python",
   "name": "python3"
  },
  "language_info": {
   "codemirror_mode": {
    "name": "ipython",
    "version": 3
   },
   "file_extension": ".py",
   "mimetype": "text/x-python",
   "name": "python",
   "nbconvert_exporter": "python",
   "pygments_lexer": "ipython3",
   "version": "3.4.3"
  }
 },
 "nbformat": 4,
 "nbformat_minor": 0
}
